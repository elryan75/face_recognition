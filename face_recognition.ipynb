{
  "nbformat": 4,
  "nbformat_minor": 0,
  "metadata": {
    "colab": {
      "name": "Copie de Assignment3.ipynb",
      "provenance": [],
      "collapsed_sections": [
        "EePjeHX2auOl",
        "ucmYNPwjar8g",
        "SBUEyUvEbMDv"
      ],
      "toc_visible": true
    },
    "kernelspec": {
      "name": "python3",
      "display_name": "Python 3"
    }
  },
  "cells": [
    {
      "cell_type": "markdown",
      "metadata": {
        "id": "KZ36d7XueqKt"
      },
      "source": [
        "# Assignment 3 - PCA and "
      ]
    },
    {
      "cell_type": "markdown",
      "metadata": {
        "id": "pL9gT-DTWRtF"
      },
      "source": [
        "##Part 1 - PCA: Face Recognition using Eigenfaces\n",
        "\n",
        "In this part we will implement and apply PCA to a dataset of celebrity faces, before finally building a very simple face classifier. To do this, we are going to: preprocess our images, implement PCA, and finally visualize the results of applying it to our dataset.\n",
        "\n",
        "Complete the sections of the assignment prefixed with **\"TODO\"**:\n",
        "\n",
        "* [2. PCA](#scrollTo=EHMIljnpdaBE)\n",
        "* [3.1 Eigenfaces](#scrollTo=A_JqQwEmu7ef)\n",
        "* [3.2 Eigenfaces](#scrollTo=YTdZF-O6daaK)\n",
        "* [4.2 Face Classification](#scrollTo=IDhubLwVh2Vr)\n"
      ]
    },
    {
      "cell_type": "markdown",
      "metadata": {
        "id": "EePjeHX2auOl"
      },
      "source": [
        "### 1) Preparing the Dataset\n",
        "\n",
        "First, we need to download the dataset and preprocess the data. To accomplish this, we will load the images into a (N, H, W) NumPy matrix (where N is the number of images, and H, W are the image dimensions). Furthermore, we will also need to center crop the images to remove the background and only keep the face. In addition, it is also recommended to make sure that the images in our dataset are aligned (e.g. eyes, nose, etc.); fortunately, the dataset we will be using has this already done!\n",
        "\n",
        "**Bonus:** If you have a few pictures of your friends, you can also add them to the dataset! Later on, we will be building a face recognition system which you can use on your own photos.\n",
        "\n",
        "\n"
      ]
    },
    {
      "cell_type": "markdown",
      "metadata": {
        "id": "iCLTIiwPt7Sv"
      },
      "source": [
        "#### 1.1) First, download the dataset and extract the images"
      ]
    },
    {
      "cell_type": "code",
      "metadata": {
        "id": "G9LisbANdZsZ",
        "colab": {
          "base_uri": "https://localhost:8080/"
        },
        "outputId": "210560b0-e1af-47f9-851d-74001099de31"
      },
      "source": [
        "# Download the dataset (subset of CelebA).\n",
        "!wget -O a3_face_dataset.tar.gz https://www.dropbox.com/s/4nmsiafyvw0o5fx/a3_face_dataset.tar.gz?dl=0"
      ],
      "execution_count": null,
      "outputs": [
        {
          "output_type": "stream",
          "text": [
            "--2020-11-06 22:53:06--  https://www.dropbox.com/s/4nmsiafyvw0o5fx/a3_face_dataset.tar.gz?dl=0\n",
            "Resolving www.dropbox.com (www.dropbox.com)... 162.125.5.1, 2620:100:601f:1::a27d:901\n",
            "Connecting to www.dropbox.com (www.dropbox.com)|162.125.5.1|:443... connected.\n",
            "HTTP request sent, awaiting response... 301 Moved Permanently\n",
            "Location: /s/raw/4nmsiafyvw0o5fx/a3_face_dataset.tar.gz [following]\n",
            "--2020-11-06 22:53:06--  https://www.dropbox.com/s/raw/4nmsiafyvw0o5fx/a3_face_dataset.tar.gz\n",
            "Reusing existing connection to www.dropbox.com:443.\n",
            "HTTP request sent, awaiting response... 302 Found\n",
            "Location: https://uce8a6b5b293fdc4f8d999155be0.dl.dropboxusercontent.com/cd/0/inline/BCsU5qCxGAkM32xQQEOXkB_9Gg3InjpLqrg71f1sKZA7huwrZufdsd-gyCxfYHqJz4ZC4PZAlJ-dLKQDcdXWOZx7XzLEmJtKNcx6FN5C2Zqg2z4JDUJNVpa0cYKjqpF3R4c/file# [following]\n",
            "--2020-11-06 22:53:07--  https://uce8a6b5b293fdc4f8d999155be0.dl.dropboxusercontent.com/cd/0/inline/BCsU5qCxGAkM32xQQEOXkB_9Gg3InjpLqrg71f1sKZA7huwrZufdsd-gyCxfYHqJz4ZC4PZAlJ-dLKQDcdXWOZx7XzLEmJtKNcx6FN5C2Zqg2z4JDUJNVpa0cYKjqpF3R4c/file\n",
            "Resolving uce8a6b5b293fdc4f8d999155be0.dl.dropboxusercontent.com (uce8a6b5b293fdc4f8d999155be0.dl.dropboxusercontent.com)... 162.125.9.15, 2620:100:601f:15::a27d:90f\n",
            "Connecting to uce8a6b5b293fdc4f8d999155be0.dl.dropboxusercontent.com (uce8a6b5b293fdc4f8d999155be0.dl.dropboxusercontent.com)|162.125.9.15|:443... connected.\n",
            "HTTP request sent, awaiting response... 302 Found\n",
            "Location: /cd/0/inline2/BCvtZv0c5OrJLJTK3SpxbtlLe3AGHYrELxY-ggWnphWMxjTkAmArYcX4jXFF8IcBk4I2owI_xzFxMC2uDXUf_Zvy3eTTM2rZ2RScwGLU3msJM9G_6J9dEUPxpCXVoaZiC45IOXyJ-GWbMR8a_Mzh35QSbEGmQetdMX42EopKFeMnXIDj9oPzp1qH73sHP-xs7vp2RScTbdClvSfgSc1YVl8G59XBbRHua9NE4ofCIO6845lMkQ1kJZcWT1nXIsyW5fh3E9NgzHsPYhWUdv02yWeTzh56Xu9p4QH-Q-8A-v9ZWtIhNdiDkXW6fM4LB3BehdHKA9Zi9JJyTs8s-gbD1UFKHHGTCxLDcnsQcaPUQ9vfsA/file [following]\n",
            "--2020-11-06 22:53:07--  https://uce8a6b5b293fdc4f8d999155be0.dl.dropboxusercontent.com/cd/0/inline2/BCvtZv0c5OrJLJTK3SpxbtlLe3AGHYrELxY-ggWnphWMxjTkAmArYcX4jXFF8IcBk4I2owI_xzFxMC2uDXUf_Zvy3eTTM2rZ2RScwGLU3msJM9G_6J9dEUPxpCXVoaZiC45IOXyJ-GWbMR8a_Mzh35QSbEGmQetdMX42EopKFeMnXIDj9oPzp1qH73sHP-xs7vp2RScTbdClvSfgSc1YVl8G59XBbRHua9NE4ofCIO6845lMkQ1kJZcWT1nXIsyW5fh3E9NgzHsPYhWUdv02yWeTzh56Xu9p4QH-Q-8A-v9ZWtIhNdiDkXW6fM4LB3BehdHKA9Zi9JJyTs8s-gbD1UFKHHGTCxLDcnsQcaPUQ9vfsA/file\n",
            "Reusing existing connection to uce8a6b5b293fdc4f8d999155be0.dl.dropboxusercontent.com:443.\n",
            "HTTP request sent, awaiting response... 200 OK\n",
            "Length: 3177789 (3.0M) [application/octet-stream]\n",
            "Saving to: ‘a3_face_dataset.tar.gz’\n",
            "\n",
            "a3_face_dataset.tar 100%[===================>]   3.03M  --.-KB/s    in 0.1s    \n",
            "\n",
            "2020-11-06 22:53:08 (24.2 MB/s) - ‘a3_face_dataset.tar.gz’ saved [3177789/3177789]\n",
            "\n"
          ],
          "name": "stdout"
        }
      ]
    },
    {
      "cell_type": "code",
      "metadata": {
        "id": "0A5_SN0RzaFJ",
        "colab": {
          "base_uri": "https://localhost:8080/"
        },
        "outputId": "0fff1d55-531d-40c6-e20b-96a244930bb3"
      },
      "source": [
        "# Extract the contents of the compressed file.\n",
        "!tar xzf a3_face_dataset.tar.gz\n",
        "!ls"
      ],
      "execution_count": null,
      "outputs": [
        {
          "output_type": "stream",
          "text": [
            "a3_face_dataset  a3_face_dataset.tar.gz  sample_data\n"
          ],
          "name": "stdout"
        }
      ]
    },
    {
      "cell_type": "markdown",
      "metadata": {
        "id": "dxpgRKcp1eeq"
      },
      "source": [
        "#### 1.2) Preview a few images from the dataset\n"
      ]
    },
    {
      "cell_type": "code",
      "metadata": {
        "id": "fC90Mo6g1XCh",
        "colab": {
          "base_uri": "https://localhost:8080/",
          "height": 1000
        },
        "outputId": "62c9ee94-9470-4423-8fb5-b286ef8470fc"
      },
      "source": [
        "import glob\n",
        "import matplotlib.pyplot as plt\n",
        "from IPython.display import display, Image\n",
        "\n",
        "# Display the first images from the dataset. You can also browse these by\n",
        "# navigating through the notebook's file system!\n",
        "sample_images = glob.glob('a3_face_dataset/*.jpg')[:5]\n",
        "for file_path in sample_images:\n",
        "  display(Image(file_path))"
      ],
      "execution_count": null,
      "outputs": [
        {
          "output_type": "display_data",
          "data": {
            "image/jpeg": "[encoded data removed]",
            "text/plain": [
              "<IPython.core.display.Image object>"
            ]
          },
          "metadata": {
            "tags": []
          }
        },
        {
          "output_type": "display_data",
          "data": {
            "image/jpeg": "[encoded data removed]",
            "text/plain": [
              "<IPython.core.display.Image object>"
            ]
          },
          "metadata": {
            "tags": []
          }
        },
        {
          "output_type": "display_data",
          "data": {
            "image/jpeg": "[encoded data removed]",
            "text/plain": [
              "<IPython.core.display.Image object>"
            ]
          },
          "metadata": {
            "tags": []
          }
        },
        {
          "output_type": "display_data",
          "data": {
            "image/jpeg": "[encoded data removed]",
            "text/plain": [
              "<IPython.core.display.Image object>"
            ]
          },
          "metadata": {
            "tags": []
          }
        },
        {
          "output_type": "display_data",
          "data": {
            "image/jpeg": "[encoded data removed]",
            "text/plain": [
              "<IPython.core.display.Image object>"
            ]
          },
          "metadata": {
            "tags": []
          }
        }
      ]
    },
    {
      "cell_type": "markdown",
      "metadata": {
        "id": "fm2vV8_x2DpT"
      },
      "source": [
        "#### 1.3) Load the dataset and convert into a NumPy matrix"
      ]
    },
    {
      "cell_type": "code",
      "metadata": {
        "id": "MoKEK-vz2Lj5",
        "colab": {
          "base_uri": "https://localhost:8080/"
        },
        "outputId": "a5fe8d95-f9d9-49f5-a4ae-98319990a5a6"
      },
      "source": [
        "import cv2\n",
        "import numpy as np\n",
        "\n",
        "# Load images in greyscale.\n",
        "image_paths = list(glob.glob('a3_face_dataset/*.jpg'))\n",
        "images = np.stack([cv2.imread(str(x), cv2.IMREAD_GRAYSCALE) \n",
        "                   for x in image_paths])\n",
        "print('Original Image Shape (N, H, W):', images.shape)"
      ],
      "execution_count": null,
      "outputs": [
        {
          "output_type": "stream",
          "text": [
            "Original Image Shape (N, H, W): (500, 218, 178)\n"
          ],
          "name": "stdout"
        }
      ]
    },
    {
      "cell_type": "markdown",
      "metadata": {
        "id": "To8fveaOgbhg"
      },
      "source": [
        "####1.4) Center crop the images and visualize the results"
      ]
    },
    {
      "cell_type": "code",
      "metadata": {
        "id": "OhrsuF44fSa7",
        "colab": {
          "base_uri": "https://localhost:8080/",
          "height": 574
        },
        "outputId": "ab7e6399-d6af-482c-ace9-b9e3395210ca"
      },
      "source": [
        "import PIL\n",
        "\n",
        "# Helper function for cropping the center of the image to remove the background\n",
        "# and only keep the face.\n",
        "def center_crop(img):\n",
        "    h, w = img.shape\n",
        "    center_y, center_x = h // 2, w // 2\n",
        "    offset_y, offset_x = center_y // 2, center_x // 2\n",
        "    return img[center_y - offset_y: center_y + offset_y,\n",
        "               center_x - offset_x: center_x + offset_x]\n",
        "  \n",
        "# Center crop our images.\n",
        "images = np.stack([center_crop(img) for img in images])\n",
        "img_height, img_width = images.shape[1:3]\n",
        "print('Cropped Image Shape (N, H, W):', images.shape)\n",
        "\n",
        "# Visualize a few results.\n",
        "for i in range(5):\n",
        "  display(PIL.Image.fromarray(images[i]))"
      ],
      "execution_count": null,
      "outputs": [
        {
          "output_type": "stream",
          "text": [
            "Cropped Image Shape (N, H, W): (500, 108, 88)\n"
          ],
          "name": "stdout"
        },
        {
          "output_type": "display_data",
          "data": {
            "image/png": "[encoded data removed]",
            "text/plain": [
              "<PIL.Image.Image image mode=L size=88x108 at 0x7F6C3CA37E48>"
            ]
          },
          "metadata": {
            "tags": []
          }
        },
        {
          "output_type": "display_data",
          "data": {
            "image/png": "[encoded data removed]",
            "text/plain": [
              "<PIL.Image.Image image mode=L size=88x108 at 0x7F6C3CA37F28>"
            ]
          },
          "metadata": {
            "tags": []
          }
        },
        {
          "output_type": "display_data",
          "data": {
            "image/png": "[encoded data removed]",
            "text/plain": [
              "<PIL.Image.Image image mode=L size=88x108 at 0x7F6C3CA37E48>"
            ]
          },
          "metadata": {
            "tags": []
          }
        },
        {
          "output_type": "display_data",
          "data": {
            "image/png": "[encoded data removed]",
            "text/plain": [
              "<PIL.Image.Image image mode=L size=88x108 at 0x7F6C3C9A9CC0>"
            ]
          },
          "metadata": {
            "tags": []
          }
        },
        {
          "output_type": "display_data",
          "data": {
            "image/png": "[encoded data removed]",
            "text/plain": [
              "<PIL.Image.Image image mode=L size=88x108 at 0x7F6C3CA37E48>"
            ]
          },
          "metadata": {
            "tags": []
          }
        }
      ]
    },
    {
      "cell_type": "markdown",
      "metadata": {
        "id": "2js_kgc_g8Ku"
      },
      "source": [
        "####1.5) Lastly, flatten each image into a single vector"
      ]
    },
    {
      "cell_type": "code",
      "metadata": {
        "id": "UjedeHZIewgU",
        "colab": {
          "base_uri": "https://localhost:8080/"
        },
        "outputId": "91d8e188-8fb6-46cf-f451-265f41ab3623"
      },
      "source": [
        "# Flatten the images into a (N, HxW) sized array, where N is the number of \n",
        "# images and H, W are the dimensions of the image.\n",
        "num_images = len(images)\n",
        "images = images.reshape(num_images, -1)\n",
        "print('Matrix Shape (N, H*W):', images.shape)\n",
        "print(images)\n"
      ],
      "execution_count": null,
      "outputs": [
        {
          "output_type": "stream",
          "text": [
            "Matrix Shape (N, H*W): (500, 9504)\n",
            "[[101  99 114 ... 153 152 151]\n",
            " [ 25  30  36 ...  24   6   3]\n",
            " [ 82  84  84 ...  53  59  62]\n",
            " ...\n",
            " [ 45  47  74 ... 169 172 174]\n",
            " [243 243 243 ... 116  84  61]\n",
            " [183 175 169 ...  99  98  98]]\n"
          ],
          "name": "stdout"
        }
      ]
    },
    {
      "cell_type": "markdown",
      "metadata": {
        "id": "rcHBs8uQa6rH"
      },
      "source": [
        "### 2) PCA Implementation\n",
        "\n",
        "**Note that there are several methods to solve for the eigenvectors of a matrix; for this assignment, you must use the eigenvectors of $A^TA$ to solve for those\n",
        "of $AA^T$. Please read the following 'Theory' section carefully for more details.** \n",
        "\n",
        "\n",
        "\n"
      ]
    },
    {
      "cell_type": "markdown",
      "metadata": {
        "id": "QPakSCDtfcrb"
      },
      "source": [
        "#### 2.1) Theory\n",
        "\n",
        "The simplest way to implement PCA is to compute the covariance\n",
        "matrix and solve for the eigenvalues and eigenvectors. For the derivation,\n",
        "we will use the notation that our input, $A$, is a matrix with a row for each pixel in the input image, and a column for each sample (i.e., $A = X^T$). In this case, that means $A$ should be a $9504$x$500$ dimensional matrix, where $n=500$. Lastly, we will also presume that $X$ is zero-centered and has a mean of zero.\n",
        "\n",
        "The covariance matrix is given by $\\mathrm{cov}(A) =  \\frac{1}{n}AA^T$, resulting in a $9504$x$9504$ matrix for which we need to solve the eigenvalues and eigenvectors. In reality, this approach is impractical as it is extremely time consuming to work with such large matrices (e.g. if we were to work with HD images, the number of elements in this matrix would be of the order of $10^{12}$).\n",
        "\n",
        "Instead, we will use a clever trick to work around this: if we can find a mapping between the eigenvectors of $\\mathrm{cov}(A^T)$ to those of $\\mathrm{cov}(A)$, then we only have to work with a $500$x$500$ matrix. This saves an immense amount of computation so long as the number of data samples is less than the number of pixels (which is almost always the case).\n",
        "\n",
        "**Your task will be to complete / make sense of the following derivation, and then use it to implement PCA.** As an aside, note that the constant term $n$ has been omitted for simplification.\n",
        "$$\n",
        "\\mathrm{cov}(A^T)v = \\lambda v \\\\\n",
        "A^TAv =  \\lambda v \\\\\n",
        "AA^TAv = A\\lambda v \\\\\n",
        "...\n",
        "$$\n",
        "____________________________________________________\n",
        "\n",
        "For further reading, please refer to the class notes and the following resources as a guideline for implementing PCA. Keep in mind that notation may vary between resources; make sure that your matrices are arranged in the correct order:\n",
        "* https://en.wikipedia.org/wiki/Eigenface  \n",
        "* https://en.wikipedia.org/wiki/Eigenface#Computing_the_eigenvectors  \n",
        "* http://www.vision.jhu.edu/teaching/vision08/Handouts/case_study_pca1.pdf  \n",
        "* http://www.face-rec.org/algorithms/pca/jcn.pdf\n"
      ]
    },
    {
      "cell_type": "markdown",
      "metadata": {
        "id": "Xdcvdh-ifmxL"
      },
      "source": [
        "#### 2.2) Implementation\n",
        "\n",
        "For this assignment we will be implementing PCA using only linear algebra libraries. As a guideline, we will loosely follow\n",
        "the interface of the scikit-learn version of PCA."
      ]
    },
    {
      "cell_type": "code",
      "metadata": {
        "id": "EHMIljnpdaBE"
      },
      "source": [
        "class PCA:\n",
        "    \"\"\"\n",
        "    Custom implementation of PCA with an interface similar to scikit-learn's version of PCA.\n",
        "    \"\"\"\n",
        "\n",
        "    def __init__(self, n_components):\n",
        "        self.n_components_ = n_components\n",
        "        self.mean_ = None\n",
        "        self.components_ = None\n",
        "        self.eigenvalues_ = None\n",
        "\n",
        "    # TODO\n",
        "    def fit(self, x):\n",
        "        x = x.astype(np.float32)\n",
        "\n",
        "        \n",
        "        # Normalize X so that it has a mean of 0. You can accomplish this\n",
        "        # by computing the mean image vector and subtracting it from X.\n",
        "        # The mean should be assigned to the 'self.mean_' attribute.\n",
        "        # --> Your code here <--\n",
        "\n",
        "        mean_vector = []\n",
        "        for i in range(x.shape[1]):\n",
        "          mean_vector.append(np.mean(x[:,i]))\n",
        "\n",
        "        self.mean_ = np.array(mean_vector)\n",
        "        x  = x - mean_vector\n",
        "\n",
        "        # Set-up your variables, A, and A^TA\n",
        "        # --> Your code here <--\n",
        "        A = x.T\n",
        "        At_A = np.matmul(x,x.T)\n",
        "\n",
        "        # Sanity check.\n",
        "        assert A.shape == (9504, 500)\n",
        "        assert At_A.shape == (500, 500)\n",
        "\n",
        "\n",
        "     \n",
        "\n",
        "        # Compute the eigenvectors using the method discussed above.\n",
        "        # --> Your code here <--\n",
        "        n = A.shape[1]\n",
        "        eigenvalues, eigenvectors = np.linalg.eig((1/n)*At_A)\n",
        "\n",
        "        eigenvectors = np.matmul(A, eigenvectors)\n",
        "\n",
        "        \n",
        "        # Tranpose the dimensions of your eigenvectors to return to the\n",
        "        # notation where each eigenvector is it's own row.\n",
        "        eigenvectors = eigenvectors.T\n",
        "        assert eigenvectors.shape == (500, 9504)\n",
        "\n",
        "         \n",
        "        # Ensure that each of the N eigenvectors are normalized to a magnitude of 1.\n",
        "        # --> Your code here <--\n",
        "\n",
        "        for i in range(eigenvectors.shape[0]):\n",
        "          norm = np.linalg.norm(eigenvectors[i])\n",
        "          eigenvectors[i] = eigenvectors[i]/norm\n",
        "\n",
        "\n",
        "      \n",
        "\n",
        "        # Only retain the best N components (eigenvectors). These should be assigned\n",
        "        # to the 'self.components_' attribute.\n",
        "        # --> Your code here <--\n",
        "        \n",
        "        #Sort eigenvalues et eigenvectors en meme temps \n",
        "        #Garder top 15\n",
        "        #Counter? last assignment\n",
        "        \n",
        "        p = eigenvalues.argsort()\n",
        "        eigenvectors = eigenvectors[p]\n",
        "\n",
        "        top_eigenvectors = eigenvectors[eigenvectors.shape[0]-self.n_components_:eigenvectors.shape[0]]\n",
        "\n",
        "        self.components_ = top_eigenvectors[::-1]\n",
        "\n",
        "        # Keep all of the eigenvalues, but make sure to sort them. This is done so we can\n",
        "        # visualize the variance versus number of components kept later in the assignment.\n",
        "        # This should be assigned to the 'self.eigenvalues_' attribute.\n",
        "        # --> Your code here <--\n",
        "        eigenvalues = -np.sort(-eigenvalues)\n",
        "        self.eigenvalues_ = eigenvalues\n",
        "\n",
        "        assert self.eigenvalues_.shape == (500, )\n",
        "\n",
        "      \n",
        "\n",
        "    def transform(self, x):\n",
        "      x = x.astype(np.float32)\n",
        "      result = None\n",
        "\n",
        "      # Project the input vector 'x' onto your PCA object's principal\n",
        "      # components and return the result. Make sure you subtract the mean face\n",
        "      # like in the fit(...) method.\n",
        "      # --> Your code here <--\n",
        "\n",
        "      x  = x - self.mean_\n",
        "\n",
        "      result = np.dot(x, self.components_.T) \n",
        "      result = result / np.linalg.norm(self.components_)\n",
        "\n",
        "      #result = np.cross(self.components_, x.T)\n",
        "\n",
        "      return result\n",
        "\n",
        "    def fit_transform(self, x):\n",
        "        self.fit(x)\n",
        "        return self.transform(x)\n",
        "\n",
        "\n",
        "   "
      ],
      "execution_count": null,
      "outputs": []
    },
    {
      "cell_type": "markdown",
      "metadata": {
        "id": "ucmYNPwjar8g"
      },
      "source": [
        "### 3) Computing Eigenfaces\n",
        "\n",
        "With the implementation of PCA complete, lets try running it on our dataset and visualizing some of the eigenfaces of the training set. To accomplish this, we first run PCA on the training matrix and then we take the eigenvectors and plot them as 2D images."
      ]
    },
    {
      "cell_type": "markdown",
      "metadata": {
        "id": "ObY2LbP4uq5f"
      },
      "source": [
        "####3.1) Perform PCA on our image matrix"
      ]
    },
    {
      "cell_type": "code",
      "metadata": {
        "id": "A_JqQwEmu7ef"
      },
      "source": [
        "# Settings\n",
        "num_components = 50\n",
        "\n",
        "\n",
        "\n",
        "pca = PCA(num_components)\n",
        "\n",
        "pca.fit(images)"
      ],
      "execution_count": null,
      "outputs": []
    },
    {
      "cell_type": "code",
      "metadata": {
        "id": "8CRzL0c_Qhx5",
        "colab": {
          "base_uri": "https://localhost:8080/"
        },
        "outputId": "73b7cb31-6e2a-411c-ce23-c30e847b5c42"
      },
      "source": [
        "pca.components_.shape"
      ],
      "execution_count": null,
      "outputs": [
        {
          "output_type": "execute_result",
          "data": {
            "text/plain": [
              "(50, 9504)"
            ]
          },
          "metadata": {
            "tags": []
          },
          "execution_count": 51
        }
      ]
    },
    {
      "cell_type": "markdown",
      "metadata": {
        "id": "YqejdOr_uy2k"
      },
      "source": [
        "####3.2) Visualize the eigenfaces"
      ]
    },
    {
      "cell_type": "code",
      "metadata": {
        "id": "YTdZF-O6daaK",
        "colab": {
          "base_uri": "https://localhost:8080/",
          "height": 346
        },
        "outputId": "727e3955-b807-4718-ddbc-a5cca1a650c7"
      },
      "source": [
        "import os\n",
        "\n",
        "# Output directory.\n",
        "os.makedirs('./eigenfaces/', exist_ok=True)\n",
        "\n",
        "# Visualize the mean face.\n",
        "print('Saving mean face...', end='')\n",
        "mean_face = pca.mean_.reshape(img_height, img_width)\n",
        "norm_img = cv2.normalize(mean_face, None, 0, 255, cv2.NORM_MINMAX).astype(np.uint8)\n",
        "cv2.imwrite('./eigenfaces/mean_face.png', norm_img)\n",
        "print('Done.')\n",
        "\n",
        "# TODO: Visualize the first few eigenfaces, and save them as './eigenfaces/eigenface_{i}.png'.\n",
        "print('Saving first ten eigen-faces to ./outputs/...', end='')\n",
        "eigenfaces = pca.components_.reshape(num_components, img_height, img_width)[:10]\n",
        "\n",
        "\n",
        "count = 0;\n",
        "for i in eigenfaces:\n",
        "  norm_img = cv2.normalize(i, None, 0, 255, cv2.NORM_MINMAX).astype(np.uint8)\n",
        "  cv2.imwrite('./eigenfaces/eigenface_{' + str(count) + '}.png', norm_img)\n",
        "  count +=1\n",
        "\n",
        "\n",
        "\n",
        "# Display the mean face and eigenfaces. You can also browse these by\n",
        "# navigating through the notebooks file system (see left side toolbar)!\n",
        "print('Mean Face')\n",
        "display(Image('./eigenfaces/mean_face.png'))\n",
        "\n",
        "print('Eigenfaces')\n",
        "for i in range(10):\n",
        "  display(Image(f'./eigenfaces/eigenface_{i}.png'))"
      ],
      "execution_count": null,
      "outputs": [
        {
          "output_type": "stream",
          "text": [
            "Saving mean face...Done.\n",
            "Saving first ten eigen-faces to ./outputs/...Mean Face\n"
          ],
          "name": "stdout"
        },
        {
          "output_type": "display_data",
          "data": {
            "image/png": "[encoded data removed]",
            "text/plain": [
              "<IPython.core.display.Image object>"
            ]
          },
          "metadata": {
            "tags": []
          }
        },
        {
          "output_type": "stream",
          "text": [
            "Eigenfaces\n"
          ],
          "name": "stdout"
        },
        {
          "output_type": "display_data",
          "data": {
            "image/png": "./eigenfaces/eigenface_0.png",
            "text/plain": [
              "<IPython.core.display.Image object>"
            ]
          },
          "metadata": {
            "tags": []
          }
        },
        {
          "output_type": "display_data",
          "data": {
            "image/png": "./eigenfaces/eigenface_1.png",
            "text/plain": [
              "<IPython.core.display.Image object>"
            ]
          },
          "metadata": {
            "tags": []
          }
        },
        {
          "output_type": "display_data",
          "data": {
            "image/png": "./eigenfaces/eigenface_2.png",
            "text/plain": [
              "<IPython.core.display.Image object>"
            ]
          },
          "metadata": {
            "tags": []
          }
        },
        {
          "output_type": "display_data",
          "data": {
            "image/png": "./eigenfaces/eigenface_3.png",
            "text/plain": [
              "<IPython.core.display.Image object>"
            ]
          },
          "metadata": {
            "tags": []
          }
        },
        {
          "output_type": "display_data",
          "data": {
            "image/png": "./eigenfaces/eigenface_4.png",
            "text/plain": [
              "<IPython.core.display.Image object>"
            ]
          },
          "metadata": {
            "tags": []
          }
        },
        {
          "output_type": "display_data",
          "data": {
            "image/png": "./eigenfaces/eigenface_5.png",
            "text/plain": [
              "<IPython.core.display.Image object>"
            ]
          },
          "metadata": {
            "tags": []
          }
        },
        {
          "output_type": "display_data",
          "data": {
            "image/png": "./eigenfaces/eigenface_6.png",
            "text/plain": [
              "<IPython.core.display.Image object>"
            ]
          },
          "metadata": {
            "tags": []
          }
        },
        {
          "output_type": "display_data",
          "data": {
            "image/png": "./eigenfaces/eigenface_7.png",
            "text/plain": [
              "<IPython.core.display.Image object>"
            ]
          },
          "metadata": {
            "tags": []
          }
        },
        {
          "output_type": "display_data",
          "data": {
            "image/png": "./eigenfaces/eigenface_8.png",
            "text/plain": [
              "<IPython.core.display.Image object>"
            ]
          },
          "metadata": {
            "tags": []
          }
        },
        {
          "output_type": "display_data",
          "data": {
            "image/png": "./eigenfaces/eigenface_9.png",
            "text/plain": [
              "<IPython.core.display.Image object>"
            ]
          },
          "metadata": {
            "tags": []
          }
        }
      ]
    },
    {
      "cell_type": "markdown",
      "metadata": {
        "id": "2icbJ4zLU-Gv"
      },
      "source": [
        "####3.3) Variance versus number of components"
      ]
    },
    {
      "cell_type": "code",
      "metadata": {
        "id": "MQ2xArSgVCiy",
        "colab": {
          "base_uri": "https://localhost:8080/",
          "height": 295
        },
        "outputId": "abd01b2a-afa8-4ad0-8cc5-be2486407628"
      },
      "source": [
        "import matplotlib.pyplot as plt\n",
        "\n",
        "# Compute the cumulative sum of total variance as we increase the number of \n",
        "# principal components we use.\n",
        "n_components_to_plot = 300\n",
        "total_variance = sum(pca.eigenvalues_)\n",
        "var_exp = [(i / total_variance) * 100 for i in\n",
        "           sorted(pca.eigenvalues_, reverse=True)[:n_components_to_plot]]\n",
        "cum_var_exp = np.cumsum(var_exp)\n",
        "\n",
        "# Generate the plot.\n",
        "plt.step(range(1, n_components_to_plot + 1), cum_var_exp)\n",
        "plt.title('Fraction of Total Variance versus Number of Components')\n",
        "plt.ylabel('Fraction of Total Variance')\n",
        "plt.xlabel('Number of Components')\n",
        "plt.show()"
      ],
      "execution_count": null,
      "outputs": [
        {
          "output_type": "display_data",
          "data": {
            "image/png": "[encoded data removed]",
            "text/plain": [
              "<Figure size 432x288 with 1 Axes>"
            ]
          },
          "metadata": {
            "tags": [],
            "needs_background": "light"
          }
        }
      ]
    },
    {
      "cell_type": "markdown",
      "metadata": {
        "id": "SBUEyUvEbMDv"
      },
      "source": [
        "### 4) Face Recognition\n",
        "\n",
        "In this section, we're going to build a simple face recognition system using eigenfaces. To accomplish this, we're going to take a test image and project it onto our principal components learned from our training set of celebrity faces. Finally, we will compare the resulting vector to all of the other faces in the training set and find the closet match based on Euclidean distance (i.e., 1-nearest-neighbour classification).\n",
        "\n",
        "For instance, this training set has photos of Obama—in theory then, if we were to test another photo of Obama (not in the training set, cropped and aligned), we should find that the closest match in the training set will also be a photo of Obama."
      ]
    },
    {
      "cell_type": "markdown",
      "metadata": {
        "id": "0ooDIT9Mjlun"
      },
      "source": [
        "#### 4.1) Download the test image"
      ]
    },
    {
      "cell_type": "code",
      "metadata": {
        "id": "uePibenqdaxc",
        "colab": {
          "base_uri": "https://localhost:8080/",
          "height": 595
        },
        "outputId": "79527a17-ec83-46db-d625-54c1cbdea50f"
      },
      "source": [
        "# Download a photo of Obama which isn't in the training set.\n",
        "!wget -O \"006357.jpg\" https://www.dropbox.com/s/ffw2621k0gmix1z/006357.jpg?dl=0\n",
        "display(Image('006357.jpg'))"
      ],
      "execution_count": null,
      "outputs": [
        {
          "output_type": "stream",
          "text": [
            "--2020-11-06 23:22:20--  https://www.dropbox.com/s/ffw2621k0gmix1z/006357.jpg?dl=0\n",
            "Resolving www.dropbox.com (www.dropbox.com)... 162.125.5.1, 2620:100:601f:1::a27d:901\n",
            "Connecting to www.dropbox.com (www.dropbox.com)|162.125.5.1|:443... connected.\n",
            "HTTP request sent, awaiting response... 301 Moved Permanently\n",
            "Location: /s/raw/ffw2621k0gmix1z/006357.jpg [following]\n",
            "--2020-11-06 23:22:20--  https://www.dropbox.com/s/raw/ffw2621k0gmix1z/006357.jpg\n",
            "Reusing existing connection to www.dropbox.com:443.\n",
            "HTTP request sent, awaiting response... 302 Found\n",
            "Location: https://ucc7808f0fc33dbb2dd11ed283b8.dl.dropboxusercontent.com/cd/0/inline/BCvIjJb6VhS1AaWzfH17e3X51ouoCShVH0ihhedJXGp_YVH5Kl_4XWNULjYM9OgxebBKo9NtUJ4jhbsQ_N06l1KZ9KdHYbCO6xRogLOYtkHoS5LqYzQyM6boAE0pPSGoOr4/file# [following]\n",
            "--2020-11-06 23:22:20--  https://ucc7808f0fc33dbb2dd11ed283b8.dl.dropboxusercontent.com/cd/0/inline/BCvIjJb6VhS1AaWzfH17e3X51ouoCShVH0ihhedJXGp_YVH5Kl_4XWNULjYM9OgxebBKo9NtUJ4jhbsQ_N06l1KZ9KdHYbCO6xRogLOYtkHoS5LqYzQyM6boAE0pPSGoOr4/file\n",
            "Resolving ucc7808f0fc33dbb2dd11ed283b8.dl.dropboxusercontent.com (ucc7808f0fc33dbb2dd11ed283b8.dl.dropboxusercontent.com)... 162.125.5.15, 2620:100:601f:15::a27d:90f\n",
            "Connecting to ucc7808f0fc33dbb2dd11ed283b8.dl.dropboxusercontent.com (ucc7808f0fc33dbb2dd11ed283b8.dl.dropboxusercontent.com)|162.125.5.15|:443... connected.\n",
            "HTTP request sent, awaiting response... 200 OK\n",
            "Length: 5872 (5.7K) [image/jpeg]\n",
            "Saving to: ‘006357.jpg’\n",
            "\n",
            "006357.jpg          100%[===================>]   5.73K  --.-KB/s    in 0s      \n",
            "\n",
            "2020-11-06 23:22:21 (625 MB/s) - ‘006357.jpg’ saved [5872/5872]\n",
            "\n"
          ],
          "name": "stdout"
        },
        {
          "output_type": "display_data",
          "data": {
            "image/jpeg": "[encoded data removed]",
            "text/plain": [
              "<IPython.core.display.Image object>"
            ]
          },
          "metadata": {
            "tags": []
          }
        }
      ]
    },
    {
      "cell_type": "markdown",
      "metadata": {
        "id": "Xtl7rIVFkSBs"
      },
      "source": [
        "#### 4.2) Find the closet image in the training set to our test image"
      ]
    },
    {
      "cell_type": "code",
      "metadata": {
        "id": "IDhubLwVh2Vr",
        "colab": {
          "base_uri": "https://localhost:8080/",
          "height": 252
        },
        "outputId": "d2505310-ec74-432b-d990-0ce1b28abe67"
      },
      "source": [
        "from numpy.linalg import norm\n",
        "\n",
        "# Load our test image into a NumPy matrix\n",
        "test_img = center_crop(cv2.imread('006357.jpg', cv2.IMREAD_GRAYSCALE))\n",
        "test_img = np.expand_dims(test_img.flatten(), axis=0)\n",
        "\n",
        "# TODO: Transform our training matrix and test image using our PCA implementation\n",
        "# from earlier.\n",
        "# --> Your code here <--\n",
        "\n",
        "test_img = pca.transform(test_img)\n",
        "\n",
        "training_matrix = []\n",
        "\n",
        "for i in images:\n",
        "  training_matrix.append(pca.transform(i))\n",
        "\n",
        "# TODO: For our face recognition classifier, we will use a 1-nearest-neighbour\n",
        "# model. The classifier should return the index of the best matching image.\n",
        "# --> Your code here <--\n",
        "dists = []\n",
        "for i in training_matrix:\n",
        "  dists.append(norm(test_img-i))\n",
        "\n",
        "best_match_index = np.argmin(dists)\n",
        "\n",
        "# If all goes well, the best match in our training set should be another\n",
        "# photo of Obama.\n",
        "print('Best match:', image_paths[best_match_index])\n",
        "display(Image(image_paths[best_match_index]))"
      ],
      "execution_count": null,
      "outputs": [
        {
          "output_type": "stream",
          "text": [
            "Best match: a3_face_dataset/029695.jpg\n"
          ],
          "name": "stdout"
        },
        {
          "output_type": "display_data",
          "data": {
            "image/jpeg": "[encoded data removed]",
            "text/plain": [
              "<IPython.core.display.Image object>"
            ]
          },
          "metadata": {
            "tags": []
          }
        }
      ]
    },
    {
      "cell_type": "markdown",
      "metadata": {
        "id": "wI-l4LsDlApo"
      },
      "source": [
        "## Theoretical questions\n"
      ]
    },
    {
      "cell_type": "markdown",
      "metadata": {
        "id": "kqnBKShFYoyi"
      },
      "source": [
        "#### Explain the difference between overfitting and underfitting"
      ]
    },
    {
      "cell_type": "markdown",
      "metadata": {
        "id": "xAL6YipoY3Z6"
      },
      "source": [
        "A model is underfitting when it doesn't fit the data well enough. The model hasn't picked up on the trends of the data.\n",
        "\n",
        "A model is overfitting when it fits the data too much. It captures the detais of the dataset instead of the general trend.\n"
      ]
    },
    {
      "cell_type": "markdown",
      "metadata": {
        "id": "RLjJzzScptMy"
      },
      "source": [
        "####Explain bagging and boosting. Clearly illustrate the difference between these methods. (less than 4 sentances)"
      ]
    },
    {
      "cell_type": "markdown",
      "metadata": {
        "id": "H-niBo1Xp5gj"
      },
      "source": [
        "Both are ensemble learning methods, they combine the prediction of many models to obtain better accuracy.\n",
        "\n",
        "Bagging generates new subsets data and builds a model for each one.\n",
        "\n",
        "Boosting incrementally builds the models on subsets of the data, where each model corrects the errors of the previous one."
      ]
    },
    {
      "cell_type": "markdown",
      "metadata": {
        "id": "o_hvDm8soNxF"
      },
      "source": [
        "#### What is a DECISION TREE (less than 3 sentances)? What are the advantages and disadvantages of a decision tree?\n",
        "\n"
      ]
    },
    {
      "cell_type": "markdown",
      "metadata": {
        "id": "P0oe_sGmot_X"
      },
      "source": [
        "A decision tree is a type classification algorithm. The data is continuously split into two according a parameter. The final outcomes are at the end of the tree.\n",
        "\n",
        "Advantages: They are intuitive to understand and to implement\n",
        "\n",
        "Disadvantages: The model can become expensive to train and can be prone to overfitting.\n"
      ]
    },
    {
      "cell_type": "markdown",
      "metadata": {
        "id": "7gEd8pKTo8wy"
      },
      "source": [
        "#### What is a RANDOM FOREST (less than 3 sentances)? What are the advantages and disadvantages of a random forest compared to a decision tree?\n",
        "\n",
        "\n"
      ]
    },
    {
      "cell_type": "markdown",
      "metadata": {
        "id": "7istrQunpX-l"
      },
      "source": [
        "A random forest is a classification model consisting of many decision trees. The model uses ensemble learning, it takes a vote of the trees to make its prediction.\n",
        "\n",
        "Advantages: Easy to use, no need for a validation set\n",
        "\n",
        "Disadvantages: The model treats each feature independently, so it cannot be used for data which has \"structure\"\n",
        "\n",
        "\n"
      ]
    }
  ]
}